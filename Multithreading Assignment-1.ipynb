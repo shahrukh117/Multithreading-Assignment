{
 "cells": [
  {
   "cell_type": "markdown",
   "id": "684d39cc-8955-4e72-870a-e1dd447d1afd",
   "metadata": {},
   "source": [
    "### Q1. What is multithreading in python? why is it used? Name the module used to handle threads in python."
   ]
  },
  {
   "cell_type": "markdown",
   "id": "5cb7556a-fcb7-438d-bad3-21f54415117c",
   "metadata": {},
   "source": [
    "###  Multithreading:"
   ]
  },
  {
   "cell_type": "markdown",
   "id": "4821a393-f362-44cd-bec2-8a1a18216b27",
   "metadata": {},
   "source": [
    "Multithreading in Python is a popular technique that enables multiple tasks to be executed simultaneously. In simple words, the ability of a processor to execute multiple threads simultaneously is known as multithreading.\n",
    "\n",
    "Python multithreading facilitates sharing data space and resources of multiple threads with the main thread. It allows efficient and easy communication between the threads."
   ]
  },
  {
   "cell_type": "markdown",
   "id": "1bfcb505-bd5f-45c7-b85d-f31ff6c6a0d2",
   "metadata": {},
   "source": [
    "### Why use multithreading?\n",
    "If you wish to break down your tasks and applications into multiple sub-tasks and then execute them simultaneously, then multithreading in Python is your best bet. All important aspects such as performance, rendering, speed and time consumption will drastically be improved by using proper Python multithreading."
   ]
  },
  {
   "cell_type": "markdown",
   "id": "4f001a5c-8082-4f94-80a4-fba6ce3526a0",
   "metadata": {},
   "source": [
    "## The Threading Module"
   ]
  },
  {
   "cell_type": "markdown",
   "id": "4b680f2b-e2fa-4c5a-8ccb-80c757c23a2c",
   "metadata": {},
   "source": [
    "### threading.activeCount() −\n",
    "Returns the number of thread objects that are active.\n",
    "\n",
    "### threading.currentThread() −\n",
    "Returns the number of thread objects in the caller's thread control.\n",
    "\n",
    "### threading.enumerate() − \n",
    "Returns a list of all thread objects that are currently active."
   ]
  },
  {
   "cell_type": "markdown",
   "id": "882ebe0e-3229-4fa3-afce-2ca57d2aceed",
   "metadata": {},
   "source": [
    "### Q2. Why threading module used? write the use of the following functions.\n",
    "1. activeCount()\n",
    "2. currentThread()\n",
    "3. enumerate()"
   ]
  },
  {
   "cell_type": "markdown",
   "id": "dd4c36f1-0947-4ab6-8b02-034abd4dcf6a",
   "metadata": {},
   "source": [
    "Python threading allows you to have different parts of your program run concurrently and can simplify your design. If you've got some experience in Python and want to speed up your program using threads, "
   ]
  },
  {
   "cell_type": "markdown",
   "id": "76353318-1958-42cb-a6ec-2469c14bf2e1",
   "metadata": {},
   "source": [
    "#### activeCount():\n",
    "The activeCount() function is used to get the number of currently active thread objects in the program. An active thread is one that is either still running or has not yet been started."
   ]
  },
  {
   "cell_type": "code",
   "execution_count": 1,
   "id": "55e29371-e8ce-4ad8-8738-490d5ee313fa",
   "metadata": {},
   "outputs": [
    {
     "name": "stdout",
     "output_type": "stream",
     "text": [
      "This is a thread.\n",
      "This is a thread.\n",
      "Number of active threads: 8\n"
     ]
    },
    {
     "name": "stderr",
     "output_type": "stream",
     "text": [
      "/tmp/ipykernel_1496/1892817602.py:12: DeprecationWarning: activeCount() is deprecated, use active_count() instead\n",
      "  active_threads = threading.activeCount()\n"
     ]
    }
   ],
   "source": [
    "import threading\n",
    "\n",
    "def my_function():\n",
    "    print(\"This is a thread.\")\n",
    "\n",
    "thread1 = threading.Thread(target=my_function)\n",
    "thread2 = threading.Thread(target=my_function)\n",
    "\n",
    "thread1.start()\n",
    "thread2.start()\n",
    "\n",
    "active_threads = threading.activeCount()\n",
    "print(f\"Number of active threads: {active_threads}\")\n"
   ]
  },
  {
   "cell_type": "markdown",
   "id": "2d31fa6f-b01d-4d91-b073-00512ebdacc5",
   "metadata": {},
   "source": [
    "In this example, we create two threads (thread1 and thread2) that execute the my_function() function. After starting both threads, we call activeCount() to get the number of active threads, which includes the main thread and the two additional threads we created."
   ]
  },
  {
   "cell_type": "markdown",
   "id": "f5e807fe-5c24-4999-9131-4a8a6e78b99c",
   "metadata": {},
   "source": [
    "#### currentThread():\n",
    "The currentThread() function is used to get the current thread object in which the function is called."
   ]
  },
  {
   "cell_type": "code",
   "execution_count": 2,
   "id": "d4d552f9-57b4-40e8-9e40-33ef78e18675",
   "metadata": {},
   "outputs": [
    {
     "name": "stdout",
     "output_type": "stream",
     "text": [
      "Current thread name: Thread-1\n",
      "Current thread name: Thread-2\n"
     ]
    },
    {
     "name": "stderr",
     "output_type": "stream",
     "text": [
      "/tmp/ipykernel_1496/2851486907.py:4: DeprecationWarning: currentThread() is deprecated, use current_thread() instead\n",
      "  current_thread = threading.currentThread()\n"
     ]
    }
   ],
   "source": [
    "import threading\n",
    "\n",
    "def my_function():\n",
    "    current_thread = threading.currentThread()\n",
    "    print(f\"Current thread name: {current_thread.name}\")\n",
    "\n",
    "thread1 = threading.Thread(target=my_function, name=\"Thread-1\")\n",
    "thread2 = threading.Thread(target=my_function, name=\"Thread-2\")\n",
    "\n",
    "thread1.start()\n",
    "thread2.start()\n"
   ]
  },
  {
   "cell_type": "markdown",
   "id": "afd8a2c3-9364-4f3e-97dc-6a140aad1e95",
   "metadata": {},
   "source": [
    "In this example, we create two threads (thread1 and thread2) that execute the my_function() function. Inside my_function(), we call currentThread() to get the current thread object and print its name"
   ]
  },
  {
   "cell_type": "markdown",
   "id": "122615d2-ea2a-4727-aedb-2d4ead4aaf8f",
   "metadata": {},
   "source": [
    "#### enumerate():\n",
    "The enumerate() function returns a list of all currently active thread objects in the program."
   ]
  },
  {
   "cell_type": "code",
   "execution_count": 3,
   "id": "29ceeac9-1d13-4965-bcf9-64b69a0b4584",
   "metadata": {},
   "outputs": [
    {
     "name": "stdout",
     "output_type": "stream",
     "text": [
      "This is a thread.\n",
      "This is a thread.\n",
      "Active threads: [<_MainThread(MainThread, started 140600171910976)>, <Thread(IOPub, started daemon 140600101381696)>, <Heartbeat(Heartbeat, started daemon 140600092988992)>, <Thread(Thread-3 (_watch_pipe_fd), started daemon 140600067810880)>, <Thread(Thread-4 (_watch_pipe_fd), started daemon 140600059418176)>, <ControlThread(Control, started daemon 140599713855040)>, <HistorySavingThread(IPythonHistorySavingThread, started 140599705462336)>, <ParentPollerUnix(Thread-2, started daemon 140599697069632)>]\n"
     ]
    }
   ],
   "source": [
    "import threading\n",
    "\n",
    "def my_function():\n",
    "    print(\"This is a thread.\")\n",
    "\n",
    "thread1 = threading.Thread(target=my_function)\n",
    "thread2 = threading.Thread(target=my_function)\n",
    "\n",
    "thread1.start()\n",
    "thread2.start()\n",
    "\n",
    "active_threads = threading.enumerate()\n",
    "print(f\"Active threads: {active_threads}\")\n"
   ]
  },
  {
   "cell_type": "markdown",
   "id": "1ec7e9bc-25bc-43f4-ae9f-d2f152748bfa",
   "metadata": {},
   "source": [
    "In this example, we create two threads (thread1 and thread2) that execute the my_function() function. After starting both threads, we call enumerate() to get a list of all active thread objects, including the main thread and the two additional threads we created.\n",
    "\n",
    "These functions from the threading module allow you to manage and work with threads effectively in your Python programs. They provide useful information about the currently active threads, enable you to access the current thread object, and help you understand the state of the threading environment."
   ]
  },
  {
   "cell_type": "markdown",
   "id": "ef5ea14f-ecc7-4691-9d97-00ab069b5bbf",
   "metadata": {},
   "source": [
    "### Q3. Explain the following functions in python.\n",
    "1.run()\n",
    "\n",
    "2.start()\n",
    "\n",
    "3.join()\n",
    "\n",
    "4.isAlive()"
   ]
  },
  {
   "cell_type": "markdown",
   "id": "5f1bd1ef-8fac-4b16-bd6d-b6a3a3c195f0",
   "metadata": {},
   "source": [
    "run() − The run() method is the entry point for a thread.\n",
    "\n",
    "start() − The start() method starts a thread by calling the run method.\n",
    "\n",
    "join() − The join() waits for threads to terminate.\n",
    "\n",
    "isAlive() − The isAlive() method checks whether a thread is still executing."
   ]
  },
  {
   "cell_type": "markdown",
   "id": "87961590-539b-4fa7-9c96-dfac1e5ecf25",
   "metadata": {},
   "source": [
    "##### run() − The run() method is the entry point for a thread.\n",
    "\n",
    "The run() method is the entry point of a thread and defines the behavior of the thread when it is started. You can override this method in a custom thread class to specify the task the thread should perform. It is called when you start a thread using the start() method.\n",
    "\n",
    "Example:"
   ]
  },
  {
   "cell_type": "code",
   "execution_count": 4,
   "id": "bc9f27c8-1832-4a39-87e8-5e49b644fe42",
   "metadata": {},
   "outputs": [
    {
     "name": "stdout",
     "output_type": "stream",
     "text": [
      "Thread Thread-9 executing: 0\n",
      "Thread Thread-9 executing: 1\n",
      "Thread Thread-9 executing: 2\n",
      "Thread Thread-9 executing: 3\n",
      "Thread Thread-9 executing: 4\n"
     ]
    },
    {
     "name": "stderr",
     "output_type": "stream",
     "text": [
      "/tmp/ipykernel_1496/2449162318.py:6: DeprecationWarning: getName() is deprecated, get the name attribute instead\n",
      "  print(f\"Thread {self.getName()} executing: {i}\")\n"
     ]
    }
   ],
   "source": [
    "import threading\n",
    "\n",
    "class MyThread(threading.Thread):\n",
    "    def run(self):\n",
    "        for i in range(5):\n",
    "            print(f\"Thread {self.getName()} executing: {i}\")\n",
    "\n",
    "thread1 = MyThread()\n",
    "thread1.start()\n"
   ]
  },
  {
   "cell_type": "markdown",
   "id": "206574ac-7cba-4848-b0e9-397bd7ef3a3a",
   "metadata": {},
   "source": [
    "In this example, we create a new thread (thread1) with my_function() as the target. When we call start(), the thread begins its execution, and the output shows the thread running concurrently with the main program."
   ]
  },
  {
   "cell_type": "markdown",
   "id": "4805251c-8ef4-4e16-a18c-20ba4c72b6bd",
   "metadata": {},
   "source": [
    "##### start() − The start() method starts a thread by calling the run method\n",
    "\n",
    "The start() method is used to start a thread's execution. It creates a new thread of execution, and the thread runs concurrently with the main program or other threads. When you call start(), it invokes the run() method of the thread class.\n",
    "\n",
    "Example:"
   ]
  },
  {
   "cell_type": "code",
   "execution_count": 5,
   "id": "dc7acb64-03f5-4887-8107-3efb85fc4d46",
   "metadata": {},
   "outputs": [
    {
     "name": "stdout",
     "output_type": "stream",
     "text": [
      "Thread executing: 0\n",
      "Thread executing: 1\n",
      "Thread executing: 2\n",
      "Thread executing: 3\n",
      "Thread executing: 4\n"
     ]
    }
   ],
   "source": [
    "import threading\n",
    "\n",
    "def my_function():\n",
    "    for i in range(5):\n",
    "        print(f\"Thread executing: {i}\")\n",
    "\n",
    "thread1 = threading.Thread(target=my_function)\n",
    "thread1.start()\n"
   ]
  },
  {
   "cell_type": "markdown",
   "id": "6e7569c3-48d0-4dc8-975a-ce625fb5b6a3",
   "metadata": {},
   "source": [
    "In this example, we create a new thread (thread1) with my_function() as the target. When we call start(), the thread begins its execution, and the output shows the thread running concurrently with the main program."
   ]
  },
  {
   "cell_type": "markdown",
   "id": "0796bc69-8d61-45a0-9c8f-3a5b8b79a1b6",
   "metadata": {},
   "source": [
    "##### join() − The join() waits for threads to terminate.\n",
    "\n",
    "The join() method is used to wait for a thread to complete its execution. It blocks the execution of the calling thread until the target thread finishes. This is useful when you want to synchronize the behavior of multiple threads and ensure that certain tasks are completed before proceeding.\n",
    "\n",
    "Example:"
   ]
  },
  {
   "cell_type": "code",
   "execution_count": 6,
   "id": "f73cced5-073b-474c-a90d-b6daff2f1514",
   "metadata": {},
   "outputs": [
    {
     "name": "stdout",
     "output_type": "stream",
     "text": [
      "Main thread is waiting for the child thread to finish.\n",
      "Thread execution completed.\n",
      "Main thread resumes execution.\n"
     ]
    }
   ],
   "source": [
    "import threading\n",
    "import time\n",
    "\n",
    "def my_function():\n",
    "    time.sleep(2)\n",
    "    print(\"Thread execution completed.\")\n",
    "\n",
    "thread1 = threading.Thread(target=my_function)\n",
    "thread1.start()\n",
    "\n",
    "print(\"Main thread is waiting for the child thread to finish.\")\n",
    "thread1.join()\n",
    "print(\"Main thread resumes execution.\")\n"
   ]
  },
  {
   "cell_type": "markdown",
   "id": "d3c52965-4817-4db7-80ba-07f2f684f0de",
   "metadata": {},
   "source": [
    "In this example, we create a thread (thread1) with my_function() as the target. After starting the thread, the main thread executes the next print statement and then calls join() on thread1. This causes the main thread to wait for thread1 to complete its execution. Once thread1 finishes, the main thread resumes its execution."
   ]
  },
  {
   "cell_type": "markdown",
   "id": "b1100bdf-5453-41b3-965c-3c8ed70882ac",
   "metadata": {},
   "source": [
    "##### isAlive() − The isAlive() method checks whether a thread is still executing\n",
    "\n",
    "The isAlive() method is used to check whether a thread is still active or has completed its execution. It returns True if the thread is active and False otherwise.\n",
    "\n",
    "Example:"
   ]
  },
  {
   "cell_type": "code",
   "execution_count": 7,
   "id": "c1e52830-1386-4264-b343-40d8f1cc5979",
   "metadata": {},
   "outputs": [
    {
     "name": "stdout",
     "output_type": "stream",
     "text": [
      "Is thread1 alive: False\n",
      "Is thread2 alive: False\n",
      "\n",
      "Value by Thread 2: 2\n",
      "Is thread1 alive: True\n",
      "Is thread2 alive: False\n"
     ]
    }
   ],
   "source": [
    "# Python program to explain the\n",
    "# use of is_alive() method\n",
    "\n",
    "import time\n",
    "import threading\n",
    "\n",
    "def thread_1(i):\n",
    "    time.sleep(5)\n",
    "    print('Value by Thread 1:', i)\n",
    "\n",
    "def thread_2(i):\n",
    "    print('Value by Thread 2:', i)\n",
    "    \n",
    "# Creating three sample threads \n",
    "thread1 = threading.Thread(target=thread_1, args=(1,))\n",
    "thread2 = threading.Thread(target=thread_2, args=(2,))\n",
    "\n",
    "# Before calling the start(), both threads are not alive\n",
    "print(\"Is thread1 alive:\", thread1.is_alive())\n",
    "print(\"Is thread2 alive:\", thread2.is_alive())\n",
    "print()\n",
    "\n",
    "thread1.start()\n",
    "thread2.start()\n",
    "# Since thread11 is on sleep for 5 seconds, it is alive\n",
    "# while thread 2 is executed instantly\n",
    "\n",
    "print(\"Is thread1 alive:\", thread1.is_alive())\n",
    "print(\"Is thread2 alive:\", thread2.is_alive())\n"
   ]
  },
  {
   "cell_type": "markdown",
   "id": "7f60f070-30b3-482d-8055-682784ada0ad",
   "metadata": {},
   "source": [
    "### Q4. Write a python program to create two threads. Thread one must print the list of squares and thread two must print the list of cubes"
   ]
  },
  {
   "cell_type": "code",
   "execution_count": 8,
   "id": "633b1c07-1f03-4e3c-8253-771764d3b502",
   "metadata": {},
   "outputs": [
    {
     "name": "stdout",
     "output_type": "stream",
     "text": [
      "List of Squares: [0, 1, 4, 9, 16, 25, 36, 49, 64, 81]\n",
      "List of Cubes: [0, 1, 8, 27, 64, 125, 216, 343, 512, 729]\n",
      "Both threads have finished.\n"
     ]
    }
   ],
   "source": [
    "import threading\n",
    "\n",
    "def calculate_squares(numbers):\n",
    "    squares = [num * num for num in numbers]\n",
    "    print(\"List of Squares:\", squares)\n",
    "\n",
    "def calculate_cubes(numbers):\n",
    "    cubes = [num * num * num for num in numbers]\n",
    "    print(\"List of Cubes:\", cubes)\n",
    "\n",
    "if __name__ == \"__main__\":\n",
    "    numbers = range(10)\n",
    "\n",
    "    thread_squares = threading.Thread(target=calculate_squares, args=(numbers,))\n",
    "    thread_cubes = threading.Thread(target=calculate_cubes, args=(numbers,))\n",
    "\n",
    "    thread_squares.start()\n",
    "    thread_cubes.start()\n",
    "\n",
    "    thread_squares.join()\n",
    "    thread_cubes.join()\n",
    "\n",
    "    print(\"Both threads have finished.\")\n"
   ]
  },
  {
   "cell_type": "code",
   "execution_count": 9,
   "id": "ac7792b2-7621-4dd8-9c49-4daeff3af699",
   "metadata": {},
   "outputs": [
    {
     "name": "stdout",
     "output_type": "stream",
     "text": [
      "List of squares: [1, 4, 9, 16, 25, 36, 49, 64, 81, 100]\n",
      "List of cubes: [1, 8, 27, 64, 125, 216, 343, 512, 729, 1000]\n",
      "Program executed successfully.\n",
      "Value by Thread 1: 1\n"
     ]
    }
   ],
   "source": [
    "import threading\n",
    "\n",
    "def print_squares(n):\n",
    "    squares = [x ** 2 for x in range(1, n + 1)]\n",
    "    print(\"List of squares:\", squares)\n",
    "\n",
    "def print_cubes(n):\n",
    "    cubes = [x ** 3 for x in range(1, n + 1)]\n",
    "    print(\"List of cubes:\", cubes)\n",
    "\n",
    "if __name__ == \"__main__\":\n",
    "    n = 10  # Change this value to the desired range\n",
    "\n",
    "    thread1 = threading.Thread(target=print_squares, args=(n,))\n",
    "    thread2 = threading.Thread(target=print_cubes, args=(n,))\n",
    "\n",
    "    thread1.start()\n",
    "    thread2.start()\n",
    "\n",
    "    thread1.join()\n",
    "    thread2.join()\n",
    "\n",
    "    print(\"Program executed successfully.\")"
   ]
  },
  {
   "cell_type": "markdown",
   "id": "5bf60506-973d-44c6-8cbd-bc2418bffe5c",
   "metadata": {},
   "source": [
    "### Q5. State advantages and disadvantages of multithreading"
   ]
  },
  {
   "cell_type": "markdown",
   "id": "1167f21a-e5cb-4178-86a0-3caa9bb41a1e",
   "metadata": {},
   "source": [
    "### Some of the common advantages of multithreading:\n",
    "\n",
    "Enhanced performance by decreased development time\n",
    "\n",
    "Simplified and streamlined program coding\n",
    "\n",
    "Improvised GUI responsiveness\n",
    "\n",
    "Simultaneous and parallelized occurrence of tasks\n",
    "\n",
    "Better use of cache storage by utilization of resources\n",
    "\n",
    "Decreased cost of maintenance\n",
    "\n",
    "Better use of CPU resource"
   ]
  },
  {
   "cell_type": "markdown",
   "id": "3893ad5b-103d-4c81-b31d-13e1d6f5b617",
   "metadata": {},
   "source": [
    "### Some of the common disadvantage of multithreading\n",
    "Complex debugging and testing processes\n",
    "\n",
    "Overhead switching of context\n",
    "\n",
    "Increased potential for deadlock occurrence\n",
    "\n",
    "Increased difficulty level in writing a program\n",
    "\n",
    "Unpredictable results"
   ]
  },
  {
   "cell_type": "markdown",
   "id": "e6d9bedb-d950-479e-b1c1-b7021b1b494d",
   "metadata": {},
   "source": [
    "### Q6. Explain deadlocks and race conditions."
   ]
  },
  {
   "cell_type": "markdown",
   "id": "e2e601e7-343f-4ca6-8710-193be1c7c3a0",
   "metadata": {},
   "source": [
    "##### When two processes are waiting for each other directly or indirectly, it is called deadlock.\n",
    "####  For example\n",
    "This usually occurs when two processes are waiting for shared resources acquired by others. For example, If thread T1 acquired resource R1 and it also needs resource R2 for it to accomplish its task. But the resource R2 is acquired by thread T2 which is waiting for resource R1(which is acquired by T1).. Neither of them will be able to accomplish its task, as they keep waiting for the other resources they need."
   ]
  },
  {
   "cell_type": "markdown",
   "id": "c629bdbb-e67d-46c0-a248-062d275c4a53",
   "metadata": {},
   "source": [
    "##### When two processes are competing with each other causing data corruption or\n",
    "A race condition is an undesirable situation that occurs when a device or system attempts to perform two or more operations at the same time, but because of the nature of the device or system, the operations must be done in the proper sequence to be done correctly.\n",
    "##### For example\n",
    "A simple example of a race condition is a light switch. In some homes, there are multiple light switches connected to a common ceiling light. When these types of circuits are used, the switch position becomes irrelevant. If the light is on, moving either switch from its current position turns the light off. Similarly, if the light is off, then moving either switch from its current position turns the light on.\n",
    "\n",
    "With that in mind, imagine what might happen if two people tried to turn on the light using two different switches at the same time. One instruction might cancel the other or the two actions might trip the circuit breaker."
   ]
  },
  {
   "cell_type": "markdown",
   "id": "2764b7d1-c042-4748-ad85-877d0db25e40",
   "metadata": {},
   "source": [
    "# The end"
   ]
  }
 ],
 "metadata": {
  "kernelspec": {
   "display_name": "Python 3 (ipykernel)",
   "language": "python",
   "name": "python3"
  },
  "language_info": {
   "codemirror_mode": {
    "name": "ipython",
    "version": 3
   },
   "file_extension": ".py",
   "mimetype": "text/x-python",
   "name": "python",
   "nbconvert_exporter": "python",
   "pygments_lexer": "ipython3",
   "version": "3.10.8"
  }
 },
 "nbformat": 4,
 "nbformat_minor": 5
}
